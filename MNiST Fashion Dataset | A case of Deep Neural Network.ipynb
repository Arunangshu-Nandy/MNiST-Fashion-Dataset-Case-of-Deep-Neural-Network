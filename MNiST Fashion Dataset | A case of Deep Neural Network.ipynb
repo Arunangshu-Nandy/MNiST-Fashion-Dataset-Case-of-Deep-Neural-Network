{
 "cells": [
  {
   "cell_type": "code",
   "execution_count": 17,
   "id": "9de529b1",
   "metadata": {},
   "outputs": [],
   "source": [
    "import tensorflow as tf\n",
    "from tensorflow import keras\n",
    "import pandas as pd\n",
    "import numpy as np\n",
    "import matplotlib.pyplot as plt\n",
    "%matplotlib inline\n",
    "\"Data Source\"#https://www.tensorflow.org/tutorials/keras/classification\n",
    "\"Label Classification\"#https://knowyourdata-tfds.withgoogle.com/#dataset=fashion_mnist&tab=STATS&select=default_segment.fashion_mnist.label.value&expanded_groups=fashion_mnist"
   ]
  },
  {
   "cell_type": "code",
   "execution_count": 4,
   "id": "5b2baad9",
   "metadata": {},
   "outputs": [],
   "source": [
    "data_mnist=keras.datasets.fashion_mnist"
   ]
  },
  {
   "cell_type": "code",
   "execution_count": 5,
   "id": "a83339c7",
   "metadata": {},
   "outputs": [
    {
     "name": "stdout",
     "output_type": "stream",
     "text": [
      "Downloading data from https://storage.googleapis.com/tensorflow/tf-keras-datasets/train-labels-idx1-ubyte.gz\n",
      "29515/29515 [==============================] - 0s 1us/step\n",
      "Downloading data from https://storage.googleapis.com/tensorflow/tf-keras-datasets/train-images-idx3-ubyte.gz\n",
      "26421880/26421880 [==============================] - 2s 0us/step\n",
      "Downloading data from https://storage.googleapis.com/tensorflow/tf-keras-datasets/t10k-labels-idx1-ubyte.gz\n",
      "5148/5148 [==============================] - 0s 0us/step\n",
      "Downloading data from https://storage.googleapis.com/tensorflow/tf-keras-datasets/t10k-images-idx3-ubyte.gz\n",
      "4422102/4422102 [==============================] - 0s 0us/step\n"
     ]
    }
   ],
   "source": [
    "(train_images, train_labels), (test_images, test_labels) = data_mnist.load_data()"
   ]
  },
  {
   "cell_type": "code",
   "execution_count": 106,
   "id": "2e7f8700",
   "metadata": {},
   "outputs": [],
   "source": [
    "(X_train, y_train), (X_test, y_test) = data_mnist.load_data()"
   ]
  },
  {
   "cell_type": "code",
   "execution_count": 107,
   "id": "f4ec72ed",
   "metadata": {},
   "outputs": [],
   "source": [
    "Class=['T-shirt/top', 'Trouser', 'Pullover', 'Dress', 'Coat',\n",
    "               'Sandal', 'Shirt', 'Sneaker', 'Bag', 'Ankle boot']"
   ]
  },
  {
   "cell_type": "code",
   "execution_count": 14,
   "id": "12598885",
   "metadata": {},
   "outputs": [
    {
     "data": {
      "text/plain": [
       "(60000, 28, 28)"
      ]
     },
     "execution_count": 14,
     "metadata": {},
     "output_type": "execute_result"
    }
   ],
   "source": [
    "X_train.shape "
   ]
  },
  {
   "cell_type": "code",
   "execution_count": null,
   "id": "83df0527",
   "metadata": {},
   "outputs": [],
   "source": [
    "#no RGB value hence this is a grey scale image"
   ]
  },
  {
   "cell_type": "code",
   "execution_count": 15,
   "id": "464b56e0",
   "metadata": {},
   "outputs": [
    {
     "data": {
      "text/plain": [
       "(10000, 28, 28)"
      ]
     },
     "execution_count": 15,
     "metadata": {},
     "output_type": "execute_result"
    }
   ],
   "source": [
    "X_test.shape"
   ]
  },
  {
   "cell_type": "code",
   "execution_count": 22,
   "id": "d6e1f61f",
   "metadata": {},
   "outputs": [
    {
     "data": {
      "text/plain": [
       "<matplotlib.image.AxesImage at 0x1593e3d60>"
      ]
     },
     "execution_count": 22,
     "metadata": {},
     "output_type": "execute_result"
    },
    {
     "data": {
      "image/png": "[encoded data removed]",
      "text/plain": [
       "<Figure size 200x200 with 1 Axes>"
      ]
     },
     "metadata": {},
     "output_type": "display_data"
    }
   ],
   "source": [
    "plt.figure(figsize=(2,2))\n",
    "plt.imshow(X_train[10])"
   ]
  },
  {
   "cell_type": "code",
   "execution_count": 24,
   "id": "30e2b9a5",
   "metadata": {},
   "outputs": [
    {
     "data": {
      "text/plain": [
       "9"
      ]
     },
     "execution_count": 24,
     "metadata": {},
     "output_type": "execute_result"
    }
   ],
   "source": [
    "y_train[0]"
   ]
  },
  {
   "cell_type": "code",
   "execution_count": 44,
   "id": "d41900f4",
   "metadata": {},
   "outputs": [
    {
     "data": {
      "text/plain": [
       "'Ankle boot'"
      ]
     },
     "execution_count": 44,
     "metadata": {},
     "output_type": "execute_result"
    }
   ],
   "source": [
    "Class[y_train[1]]"
   ]
  },
  {
   "cell_type": "code",
   "execution_count": 65,
   "id": "cae23e3a",
   "metadata": {},
   "outputs": [],
   "source": [
    "def sample_image(index):\n",
    "    plt.figure(figsize=(2,2))\n",
    "    plt.imshow(X_train[index])"
   ]
  },
  {
   "cell_type": "code",
   "execution_count": 66,
   "id": "7eb18389",
   "metadata": {},
   "outputs": [
    {
     "data": {
      "image/png": "[encoded data removed]",
      "text/plain": [
       "<Figure size 200x200 with 1 Axes>"
      ]
     },
     "metadata": {},
     "output_type": "display_data"
    }
   ],
   "source": [
    "sample_image(0)"
   ]
  },
  {
   "cell_type": "code",
   "execution_count": 67,
   "id": "e54e6fa5",
   "metadata": {},
   "outputs": [
    {
     "data": {
      "text/plain": [
       "'Ankle boot'"
      ]
     },
     "execution_count": 67,
     "metadata": {},
     "output_type": "execute_result"
    }
   ],
   "source": [
    "Class[y_train[0]]"
   ]
  },
  {
   "cell_type": "code",
   "execution_count": 68,
   "id": "1fdebc41",
   "metadata": {},
   "outputs": [
    {
     "data": {
      "image/png": "[encoded data removed]",
      "text/plain": [
       "<Figure size 200x200 with 1 Axes>"
      ]
     },
     "metadata": {},
     "output_type": "display_data"
    }
   ],
   "source": [
    "sample_image(7)"
   ]
  },
  {
   "cell_type": "code",
   "execution_count": 69,
   "id": "51d08763",
   "metadata": {},
   "outputs": [
    {
     "data": {
      "text/plain": [
       "'Pullover'"
      ]
     },
     "execution_count": 69,
     "metadata": {},
     "output_type": "execute_result"
    }
   ],
   "source": [
    "Class[y_train[7]]"
   ]
  },
  {
   "cell_type": "code",
   "execution_count": 80,
   "id": "21950909",
   "metadata": {},
   "outputs": [
    {
     "data": {
      "text/plain": [
       "10"
      ]
     },
     "execution_count": 80,
     "metadata": {},
     "output_type": "execute_result"
    }
   ],
   "source": [
    "len(Class)"
   ]
  },
  {
   "cell_type": "code",
   "execution_count": 76,
   "id": "792e0f71",
   "metadata": {},
   "outputs": [
    {
     "data": {
      "image/png": "[encoded data removed]",
      "text/plain": [
       "<Figure size 1000x1000 with 36 Axes>"
      ]
     },
     "metadata": {},
     "output_type": "display_data"
    }
   ],
   "source": [
    "plt.figure(figsize=(10,10))\n",
    "for i in range(36):\n",
    "    plt.subplot(6,6,i+1)\n",
    "    plt.xticks([])\n",
    "    plt.yticks([])\n",
    "    plt.grid(False)\n",
    "    plt.imshow(X_train[i], cmap=plt.cm.binary)\n",
    "    plt.tight_layout\n",
    "    plt.xlabel(Class[y_train[i]])\n",
    "plt.show()"
   ]
  },
  {
   "cell_type": "code",
   "execution_count": 108,
   "id": "94e4f350",
   "metadata": {},
   "outputs": [],
   "source": [
    "X_train_scaled=X_train/255\n",
    "X_test_scaled=X_test/255"
   ]
  },
  {
   "cell_type": "code",
   "execution_count": 110,
   "id": "497a9ebe",
   "metadata": {},
   "outputs": [
    {
     "data": {
      "text/plain": [
       "array([[0, 0, 0, ..., 0, 0, 1],\n",
       "       [1, 0, 0, ..., 0, 0, 0],\n",
       "       [1, 0, 0, ..., 0, 0, 0],\n",
       "       ...,\n",
       "       [0, 0, 0, ..., 0, 0, 0],\n",
       "       [1, 0, 0, ..., 0, 0, 0],\n",
       "       [0, 0, 0, ..., 0, 0, 0]])"
      ]
     },
     "execution_count": 110,
     "metadata": {},
     "output_type": "execute_result"
    }
   ],
   "source": [
    "y_train_categorical=keras.utils.to_categorical(y_train,num_classes=len(Class),dtype='int64')\n",
    "y_train_categorical"
   ]
  },
  {
   "cell_type": "code",
   "execution_count": 111,
   "id": "af0f49db",
   "metadata": {},
   "outputs": [],
   "source": [
    "y_test_categorical=keras.utils.to_categorical(y_test,num_classes=len(Class),dtype='int64')"
   ]
  },
  {
   "cell_type": "code",
   "execution_count": 91,
   "id": "947c13db",
   "metadata": {},
   "outputs": [
    {
     "name": "stdout",
     "output_type": "stream",
     "text": [
      "Epoch 1/500\n",
      "1875/1875 [==============================] - 12s 6ms/step - loss: 2.2980 - accuracy: 0.1593\n",
      "Epoch 2/500\n",
      "1875/1875 [==============================] - 12s 7ms/step - loss: 2.2959 - accuracy: 0.1734\n",
      "Epoch 3/500\n",
      "1875/1875 [==============================] - 12s 7ms/step - loss: 2.2934 - accuracy: 0.1885\n",
      "Epoch 4/500\n",
      "1875/1875 [==============================] - 12s 6ms/step - loss: 2.2903 - accuracy: 0.2097\n",
      "Epoch 5/500\n",
      "1875/1875 [==============================] - 12s 6ms/step - loss: 2.2858 - accuracy: 0.2304\n",
      "Epoch 6/500\n",
      "1875/1875 [==============================] - 12s 6ms/step - loss: 2.2794 - accuracy: 0.2688\n",
      "Epoch 7/500\n",
      "1875/1875 [==============================] - 12s 6ms/step - loss: 2.2696 - accuracy: 0.2866\n",
      "Epoch 8/500\n",
      "1875/1875 [==============================] - 12s 6ms/step - loss: 2.2537 - accuracy: 0.3270\n",
      "Epoch 9/500\n",
      "1875/1875 [==============================] - 12s 7ms/step - loss: 2.2260 - accuracy: 0.3424\n",
      "Epoch 10/500\n",
      "1875/1875 [==============================] - 13s 7ms/step - loss: 2.1759 - accuracy: 0.3444\n",
      "Epoch 11/500\n",
      "1875/1875 [==============================] - 13s 7ms/step - loss: 2.0893 - accuracy: 0.3289\n",
      "Epoch 12/500\n",
      "1875/1875 [==============================] - 12s 6ms/step - loss: 1.9675 - accuracy: 0.3552\n",
      "Epoch 13/500\n",
      "1875/1875 [==============================] - 13s 7ms/step - loss: 1.8454 - accuracy: 0.3803\n",
      "Epoch 14/500\n",
      "1875/1875 [==============================] - 13s 7ms/step - loss: 1.7461 - accuracy: 0.4040\n",
      "Epoch 15/500\n",
      "1875/1875 [==============================] - 14s 8ms/step - loss: 1.6608 - accuracy: 0.4343\n",
      "Epoch 16/500\n",
      "1875/1875 [==============================] - 16s 9ms/step - loss: 1.5742 - accuracy: 0.4565\n",
      "Epoch 17/500\n",
      "1875/1875 [==============================] - 15s 8ms/step - loss: 1.4809 - accuracy: 0.4875\n",
      "Epoch 18/500\n",
      "1875/1875 [==============================] - 13s 7ms/step - loss: 1.3872 - accuracy: 0.5081\n",
      "Epoch 19/500\n",
      "1875/1875 [==============================] - 13s 7ms/step - loss: 1.3060 - accuracy: 0.5256\n",
      "Epoch 20/500\n",
      "1875/1875 [==============================] - 12s 6ms/step - loss: 1.2407 - accuracy: 0.5403\n",
      "Epoch 21/500\n",
      "1875/1875 [==============================] - 12s 7ms/step - loss: 1.1910 - accuracy: 0.5526\n",
      "Epoch 22/500\n",
      "1875/1875 [==============================] - 12s 7ms/step - loss: 1.1513 - accuracy: 0.5630\n",
      "Epoch 23/500\n",
      "1875/1875 [==============================] - 13s 7ms/step - loss: 1.1228 - accuracy: 0.5694\n",
      "Epoch 24/500\n",
      "1875/1875 [==============================] - 12s 7ms/step - loss: 1.0989 - accuracy: 0.5753\n",
      "Epoch 25/500\n",
      "1875/1875 [==============================] - 13s 7ms/step - loss: 1.0782 - accuracy: 0.5814\n",
      "Epoch 26/500\n",
      "1875/1875 [==============================] - 12s 7ms/step - loss: 1.0590 - accuracy: 0.5891\n",
      "Epoch 27/500\n",
      "1875/1875 [==============================] - 12s 6ms/step - loss: 1.0434 - accuracy: 0.5925\n",
      "Epoch 28/500\n",
      "1875/1875 [==============================] - 11s 6ms/step - loss: 1.0277 - accuracy: 0.5963\n",
      "Epoch 29/500\n",
      "1875/1875 [==============================] - 11s 6ms/step - loss: 1.0138 - accuracy: 0.6023\n",
      "Epoch 30/500\n",
      "1875/1875 [==============================] - 12s 6ms/step - loss: 1.0030 - accuracy: 0.6043\n",
      "Epoch 31/500\n",
      "1875/1875 [==============================] - 12s 6ms/step - loss: 0.9935 - accuracy: 0.6094\n",
      "Epoch 32/500\n",
      "1875/1875 [==============================] - 11s 6ms/step - loss: 0.9835 - accuracy: 0.6118\n",
      "Epoch 33/500\n",
      "1875/1875 [==============================] - 11s 6ms/step - loss: 0.9743 - accuracy: 0.6154\n",
      "Epoch 34/500\n",
      "1875/1875 [==============================] - 11s 6ms/step - loss: 0.9635 - accuracy: 0.6189\n",
      "Epoch 35/500\n",
      "1875/1875 [==============================] - 12s 6ms/step - loss: 0.9558 - accuracy: 0.6241\n",
      "Epoch 36/500\n",
      "1875/1875 [==============================] - 11s 6ms/step - loss: 0.9464 - accuracy: 0.6284\n",
      "Epoch 37/500\n",
      "1875/1875 [==============================] - 12s 6ms/step - loss: 0.9408 - accuracy: 0.6313\n",
      "Epoch 38/500\n",
      "1875/1875 [==============================] - 11s 6ms/step - loss: 0.9342 - accuracy: 0.6366\n",
      "Epoch 39/500\n",
      "1875/1875 [==============================] - 12s 6ms/step - loss: 0.9277 - accuracy: 0.6375\n",
      "Epoch 40/500\n",
      "1875/1875 [==============================] - 12s 6ms/step - loss: 0.9212 - accuracy: 0.6420\n",
      "Epoch 41/500\n",
      "1875/1875 [==============================] - 12s 6ms/step - loss: 0.9120 - accuracy: 0.6472\n",
      "Epoch 42/500\n",
      "1875/1875 [==============================] - 12s 6ms/step - loss: 0.9054 - accuracy: 0.6526\n",
      "Epoch 43/500\n",
      "1875/1875 [==============================] - 11s 6ms/step - loss: 0.9014 - accuracy: 0.6546\n",
      "Epoch 44/500\n",
      "1875/1875 [==============================] - 12s 6ms/step - loss: 0.8945 - accuracy: 0.6593\n",
      "Epoch 45/500\n",
      "1875/1875 [==============================] - 12s 6ms/step - loss: 0.8851 - accuracy: 0.6633\n",
      "Epoch 46/500\n",
      "1875/1875 [==============================] - 12s 6ms/step - loss: 0.8768 - accuracy: 0.6686\n",
      "Epoch 47/500\n",
      "1875/1875 [==============================] - 12s 6ms/step - loss: 0.8724 - accuracy: 0.6722\n",
      "Epoch 48/500\n",
      "1875/1875 [==============================] - 12s 6ms/step - loss: 0.8624 - accuracy: 0.6771\n",
      "Epoch 49/500\n",
      "1875/1875 [==============================] - 12s 6ms/step - loss: 0.8620 - accuracy: 0.6791\n",
      "Epoch 50/500\n",
      "1875/1875 [==============================] - 12s 6ms/step - loss: 0.8514 - accuracy: 0.6848\n",
      "Epoch 51/500\n",
      "1875/1875 [==============================] - 12s 6ms/step - loss: 0.8406 - accuracy: 0.6900\n",
      "Epoch 52/500\n",
      "1875/1875 [==============================] - 12s 6ms/step - loss: 0.8352 - accuracy: 0.6935\n",
      "Epoch 53/500\n",
      "1875/1875 [==============================] - 11s 6ms/step - loss: 0.8258 - accuracy: 0.6954\n",
      "Epoch 54/500\n",
      "1875/1875 [==============================] - 11s 6ms/step - loss: 0.8207 - accuracy: 0.6983\n",
      "Epoch 55/500\n",
      "1875/1875 [==============================] - 11s 6ms/step - loss: 0.8099 - accuracy: 0.7032\n",
      "Epoch 56/500\n",
      "1875/1875 [==============================] - 11s 6ms/step - loss: 0.8037 - accuracy: 0.7039\n",
      "Epoch 57/500\n",
      "1875/1875 [==============================] - 12s 6ms/step - loss: 0.8054 - accuracy: 0.7044\n",
      "Epoch 58/500\n",
      "1875/1875 [==============================] - 12s 7ms/step - loss: 0.7954 - accuracy: 0.7077\n",
      "Epoch 59/500\n",
      "1875/1875 [==============================] - 12s 7ms/step - loss: 0.7877 - accuracy: 0.7102\n",
      "Epoch 60/500\n",
      "1875/1875 [==============================] - 13s 7ms/step - loss: 0.7779 - accuracy: 0.7130\n",
      "Epoch 61/500\n",
      "1875/1875 [==============================] - 12s 6ms/step - loss: 0.7755 - accuracy: 0.7135\n",
      "Epoch 62/500\n",
      "1875/1875 [==============================] - 13s 7ms/step - loss: 0.7694 - accuracy: 0.7157\n",
      "Epoch 63/500\n",
      "1875/1875 [==============================] - 12s 7ms/step - loss: 0.7663 - accuracy: 0.7177\n",
      "Epoch 64/500\n",
      "1875/1875 [==============================] - 13s 7ms/step - loss: 0.7562 - accuracy: 0.7188\n",
      "Epoch 65/500\n",
      "1875/1875 [==============================] - 13s 7ms/step - loss: 0.7525 - accuracy: 0.7201\n",
      "Epoch 66/500\n",
      "1875/1875 [==============================] - 13s 7ms/step - loss: 0.7481 - accuracy: 0.7229\n",
      "Epoch 67/500\n",
      "1875/1875 [==============================] - 12s 6ms/step - loss: 0.7454 - accuracy: 0.7245\n",
      "Epoch 68/500\n",
      "1875/1875 [==============================] - 13s 7ms/step - loss: 0.7405 - accuracy: 0.7247\n",
      "Epoch 69/500\n",
      "1875/1875 [==============================] - 13s 7ms/step - loss: 0.7355 - accuracy: 0.7262\n",
      "Epoch 70/500\n",
      "1875/1875 [==============================] - 13s 7ms/step - loss: 0.7324 - accuracy: 0.7261\n",
      "Epoch 71/500\n",
      "1875/1875 [==============================] - 12s 6ms/step - loss: 0.7275 - accuracy: 0.7282\n",
      "Epoch 72/500\n",
      "1875/1875 [==============================] - 1840s 982ms/step - loss: 0.7243 - accuracy: 0.7280\n",
      "Epoch 73/500\n",
      "1875/1875 [==============================] - 15s 8ms/step - loss: 0.7218 - accuracy: 0.7290\n",
      "Epoch 74/500\n",
      "1875/1875 [==============================] - 16s 8ms/step - loss: 0.7144 - accuracy: 0.7319\n",
      "Epoch 75/500\n",
      "1875/1875 [==============================] - 16s 9ms/step - loss: 0.7136 - accuracy: 0.7316\n",
      "Epoch 76/500\n",
      "1875/1875 [==============================] - 13s 7ms/step - loss: 0.7112 - accuracy: 0.7329\n",
      "Epoch 77/500\n",
      "1875/1875 [==============================] - 14s 7ms/step - loss: 0.7052 - accuracy: 0.7363\n",
      "Epoch 78/500\n",
      "1875/1875 [==============================] - 17s 9ms/step - loss: 0.7010 - accuracy: 0.7370\n",
      "Epoch 79/500\n"
     ]
    },
    {
     "name": "stdout",
     "output_type": "stream",
     "text": [
      "1875/1875 [==============================] - 17s 9ms/step - loss: 0.7016 - accuracy: 0.7361\n",
      "Epoch 80/500\n",
      "1875/1875 [==============================] - 12s 6ms/step - loss: 0.6982 - accuracy: 0.7398\n",
      "Epoch 81/500\n",
      "1875/1875 [==============================] - 12s 6ms/step - loss: 0.6979 - accuracy: 0.7369\n",
      "Epoch 82/500\n",
      "1875/1875 [==============================] - 14s 8ms/step - loss: 0.6903 - accuracy: 0.7393\n",
      "Epoch 83/500\n",
      "1875/1875 [==============================] - 14s 7ms/step - loss: 0.6904 - accuracy: 0.7415\n",
      "Epoch 84/500\n",
      "1875/1875 [==============================] - 11s 6ms/step - loss: 0.6847 - accuracy: 0.7424\n",
      "Epoch 85/500\n",
      "1875/1875 [==============================] - 11s 6ms/step - loss: 0.6839 - accuracy: 0.7439\n",
      "Epoch 86/500\n",
      "1875/1875 [==============================] - 12s 6ms/step - loss: 0.6799 - accuracy: 0.7432\n",
      "Epoch 87/500\n",
      "1875/1875 [==============================] - 11s 6ms/step - loss: 0.6796 - accuracy: 0.7451\n",
      "Epoch 88/500\n",
      "1875/1875 [==============================] - 12s 6ms/step - loss: 0.6767 - accuracy: 0.7449\n",
      "Epoch 89/500\n",
      "1875/1875 [==============================] - 12s 6ms/step - loss: 0.6747 - accuracy: 0.7456\n",
      "Epoch 90/500\n",
      "1875/1875 [==============================] - 12s 6ms/step - loss: 0.6710 - accuracy: 0.7473\n",
      "Epoch 91/500\n",
      "1875/1875 [==============================] - 11s 6ms/step - loss: 0.6731 - accuracy: 0.7470\n",
      "Epoch 92/500\n",
      "1875/1875 [==============================] - 12s 6ms/step - loss: 0.6709 - accuracy: 0.7464\n",
      "Epoch 93/500\n",
      "1875/1875 [==============================] - 12s 6ms/step - loss: 0.6685 - accuracy: 0.7477\n",
      "Epoch 94/500\n",
      "1875/1875 [==============================] - 11s 6ms/step - loss: 0.6662 - accuracy: 0.7502\n",
      "Epoch 95/500\n",
      "1875/1875 [==============================] - 11s 6ms/step - loss: 0.6642 - accuracy: 0.7489\n",
      "Epoch 96/500\n",
      "1875/1875 [==============================] - 12s 6ms/step - loss: 0.6589 - accuracy: 0.7504\n",
      "Epoch 97/500\n",
      "1875/1875 [==============================] - 12s 6ms/step - loss: 0.6595 - accuracy: 0.7515\n",
      "Epoch 98/500\n",
      "1875/1875 [==============================] - 11s 6ms/step - loss: 0.6576 - accuracy: 0.7512\n",
      "Epoch 99/500\n",
      "1875/1875 [==============================] - 12s 6ms/step - loss: 0.6573 - accuracy: 0.7523\n",
      "Epoch 100/500\n",
      "1875/1875 [==============================] - 12s 6ms/step - loss: 0.6567 - accuracy: 0.7551\n",
      "Epoch 101/500\n",
      "1875/1875 [==============================] - 11s 6ms/step - loss: 0.6536 - accuracy: 0.7541\n",
      "Epoch 102/500\n",
      "1875/1875 [==============================] - 12s 6ms/step - loss: 0.6529 - accuracy: 0.7549\n",
      "Epoch 103/500\n",
      "1875/1875 [==============================] - 12s 6ms/step - loss: 0.6517 - accuracy: 0.7560\n",
      "Epoch 104/500\n",
      "1875/1875 [==============================] - 12s 6ms/step - loss: 0.6502 - accuracy: 0.7575\n",
      "Epoch 105/500\n",
      "1875/1875 [==============================] - 11s 6ms/step - loss: 0.6462 - accuracy: 0.7579\n",
      "Epoch 106/500\n",
      "1875/1875 [==============================] - 12s 6ms/step - loss: 0.6462 - accuracy: 0.7599\n",
      "Epoch 107/500\n",
      "1875/1875 [==============================] - 12s 6ms/step - loss: 0.6451 - accuracy: 0.7578\n",
      "Epoch 108/500\n",
      "1875/1875 [==============================] - 11s 6ms/step - loss: 0.6415 - accuracy: 0.7595\n",
      "Epoch 109/500\n",
      "1875/1875 [==============================] - 11s 6ms/step - loss: 0.6408 - accuracy: 0.7601\n",
      "Epoch 110/500\n",
      "1875/1875 [==============================] - 12s 6ms/step - loss: 0.6415 - accuracy: 0.7602\n",
      "Epoch 111/500\n",
      "1875/1875 [==============================] - 12s 6ms/step - loss: 0.6378 - accuracy: 0.7627\n",
      "Epoch 112/500\n",
      "1875/1875 [==============================] - 11s 6ms/step - loss: 0.6361 - accuracy: 0.7642\n",
      "Epoch 113/500\n",
      "1875/1875 [==============================] - 12s 6ms/step - loss: 0.6363 - accuracy: 0.7622\n",
      "Epoch 114/500\n",
      "1875/1875 [==============================] - 12s 6ms/step - loss: 0.6360 - accuracy: 0.7621\n",
      "Epoch 115/500\n",
      "1875/1875 [==============================] - 12s 6ms/step - loss: 0.6325 - accuracy: 0.7634\n",
      "Epoch 116/500\n",
      "1875/1875 [==============================] - 14s 7ms/step - loss: 0.6314 - accuracy: 0.7639\n",
      "Epoch 117/500\n",
      "1875/1875 [==============================] - 14s 8ms/step - loss: 0.6324 - accuracy: 0.7651\n",
      "Epoch 118/500\n",
      "1875/1875 [==============================] - 14s 8ms/step - loss: 0.6291 - accuracy: 0.7657\n",
      "Epoch 119/500\n",
      "1875/1875 [==============================] - 12s 7ms/step - loss: 0.6275 - accuracy: 0.7657\n",
      "Epoch 120/500\n",
      "1875/1875 [==============================] - 13s 7ms/step - loss: 0.6258 - accuracy: 0.7663\n",
      "Epoch 121/500\n",
      "1875/1875 [==============================] - 12s 7ms/step - loss: 0.6262 - accuracy: 0.7661\n",
      "Epoch 122/500\n",
      "1875/1875 [==============================] - 12s 6ms/step - loss: 0.6261 - accuracy: 0.7661\n",
      "Epoch 123/500\n",
      "1875/1875 [==============================] - 12s 7ms/step - loss: 0.6233 - accuracy: 0.7672\n",
      "Epoch 124/500\n",
      "1875/1875 [==============================] - 12s 7ms/step - loss: 0.6231 - accuracy: 0.7682\n",
      "Epoch 125/500\n",
      "1875/1875 [==============================] - 12s 7ms/step - loss: 0.6228 - accuracy: 0.7690\n",
      "Epoch 126/500\n",
      "1875/1875 [==============================] - 13s 7ms/step - loss: 0.6214 - accuracy: 0.7697\n",
      "Epoch 127/500\n",
      "1875/1875 [==============================] - 12s 6ms/step - loss: 0.6197 - accuracy: 0.7705\n",
      "Epoch 128/500\n",
      "1875/1875 [==============================] - 13s 7ms/step - loss: 0.6206 - accuracy: 0.7690\n",
      "Epoch 129/500\n",
      "1875/1875 [==============================] - 12s 6ms/step - loss: 0.6161 - accuracy: 0.7717\n",
      "Epoch 130/500\n",
      "1875/1875 [==============================] - 13s 7ms/step - loss: 0.6194 - accuracy: 0.7700\n",
      "Epoch 131/500\n",
      "1875/1875 [==============================] - 12s 6ms/step - loss: 0.6129 - accuracy: 0.7732\n",
      "Epoch 132/500\n",
      "1875/1875 [==============================] - 12s 7ms/step - loss: 0.6145 - accuracy: 0.7724\n",
      "Epoch 133/500\n",
      "1875/1875 [==============================] - 12s 7ms/step - loss: 0.6113 - accuracy: 0.7738\n",
      "Epoch 134/500\n",
      "1875/1875 [==============================] - 12s 7ms/step - loss: 0.6110 - accuracy: 0.7723\n",
      "Epoch 135/500\n",
      "1875/1875 [==============================] - 12s 6ms/step - loss: 0.6113 - accuracy: 0.7739\n",
      "Epoch 136/500\n",
      "1875/1875 [==============================] - 12s 7ms/step - loss: 0.6092 - accuracy: 0.7745\n",
      "Epoch 137/500\n",
      "1875/1875 [==============================] - 12s 7ms/step - loss: 0.6080 - accuracy: 0.7740\n",
      "Epoch 138/500\n",
      "1875/1875 [==============================] - 13s 7ms/step - loss: 0.6076 - accuracy: 0.7755\n",
      "Epoch 139/500\n",
      "1875/1875 [==============================] - 13s 7ms/step - loss: 0.6061 - accuracy: 0.7767\n",
      "Epoch 140/500\n",
      "1875/1875 [==============================] - 12s 7ms/step - loss: 0.6066 - accuracy: 0.7753\n",
      "Epoch 141/500\n",
      "1875/1875 [==============================] - 12s 7ms/step - loss: 0.6068 - accuracy: 0.7761\n",
      "Epoch 142/500\n",
      "1875/1875 [==============================] - 12s 7ms/step - loss: 0.6029 - accuracy: 0.7760\n",
      "Epoch 143/500\n",
      "1875/1875 [==============================] - 13s 7ms/step - loss: 0.6025 - accuracy: 0.7770\n",
      "Epoch 144/500\n",
      "1875/1875 [==============================] - 12s 6ms/step - loss: 0.6055 - accuracy: 0.7764\n",
      "Epoch 145/500\n",
      "1875/1875 [==============================] - 13s 7ms/step - loss: 0.6024 - accuracy: 0.7769\n",
      "Epoch 146/500\n",
      "1875/1875 [==============================] - 13s 7ms/step - loss: 0.6003 - accuracy: 0.7784\n",
      "Epoch 147/500\n",
      "1875/1875 [==============================] - 13s 7ms/step - loss: 0.6011 - accuracy: 0.7772\n",
      "Epoch 148/500\n",
      "1875/1875 [==============================] - 12s 7ms/step - loss: 0.5975 - accuracy: 0.7802\n",
      "Epoch 149/500\n",
      "1875/1875 [==============================] - 13s 7ms/step - loss: 0.5953 - accuracy: 0.7800\n",
      "Epoch 150/500\n",
      "1875/1875 [==============================] - 12s 7ms/step - loss: 0.5985 - accuracy: 0.7798\n",
      "Epoch 151/500\n",
      "1875/1875 [==============================] - 13s 7ms/step - loss: 0.5957 - accuracy: 0.7814\n",
      "Epoch 152/500\n",
      "1875/1875 [==============================] - 13s 7ms/step - loss: 0.5932 - accuracy: 0.7804\n",
      "Epoch 153/500\n",
      "1875/1875 [==============================] - 12s 6ms/step - loss: 0.5937 - accuracy: 0.7797\n",
      "Epoch 154/500\n",
      "1875/1875 [==============================] - 13s 7ms/step - loss: 0.5939 - accuracy: 0.7816\n",
      "Epoch 155/500\n",
      "1875/1875 [==============================] - 13s 7ms/step - loss: 0.5916 - accuracy: 0.7808\n",
      "Epoch 156/500\n"
     ]
    },
    {
     "name": "stdout",
     "output_type": "stream",
     "text": [
      "1875/1875 [==============================] - 13s 7ms/step - loss: 0.5887 - accuracy: 0.7837\n",
      "Epoch 157/500\n",
      "1875/1875 [==============================] - 13s 7ms/step - loss: 0.5888 - accuracy: 0.7836\n",
      "Epoch 158/500\n",
      "1875/1875 [==============================] - 12s 7ms/step - loss: 0.5891 - accuracy: 0.7825\n",
      "Epoch 159/500\n",
      "1875/1875 [==============================] - 12s 6ms/step - loss: 0.5886 - accuracy: 0.7851\n",
      "Epoch 160/500\n",
      "1875/1875 [==============================] - 13s 7ms/step - loss: 0.5885 - accuracy: 0.7850\n",
      "Epoch 161/500\n",
      "1875/1875 [==============================] - 12s 6ms/step - loss: 0.5873 - accuracy: 0.7850\n",
      "Epoch 162/500\n",
      "1875/1875 [==============================] - 13s 7ms/step - loss: 0.5866 - accuracy: 0.7841\n",
      "Epoch 163/500\n",
      "1875/1875 [==============================] - 12s 6ms/step - loss: 0.5870 - accuracy: 0.7839\n",
      "Epoch 164/500\n",
      "1875/1875 [==============================] - 13s 7ms/step - loss: 0.5823 - accuracy: 0.7843\n",
      "Epoch 165/500\n",
      "1875/1875 [==============================] - 13s 7ms/step - loss: 0.5836 - accuracy: 0.7847\n",
      "Epoch 166/500\n",
      "1875/1875 [==============================] - 13s 7ms/step - loss: 0.5813 - accuracy: 0.7853\n",
      "Epoch 167/500\n",
      "1875/1875 [==============================] - 12s 7ms/step - loss: 0.5803 - accuracy: 0.7880\n",
      "Epoch 168/500\n",
      "1875/1875 [==============================] - 13s 7ms/step - loss: 0.5823 - accuracy: 0.7862\n",
      "Epoch 169/500\n",
      "1875/1875 [==============================] - 13s 7ms/step - loss: 0.5822 - accuracy: 0.7861\n",
      "Epoch 170/500\n",
      "1875/1875 [==============================] - 13s 7ms/step - loss: 0.5799 - accuracy: 0.7866\n",
      "Epoch 171/500\n",
      "1875/1875 [==============================] - 13s 7ms/step - loss: 0.5793 - accuracy: 0.7879\n",
      "Epoch 172/500\n",
      "1875/1875 [==============================] - 12s 7ms/step - loss: 0.5793 - accuracy: 0.7867\n",
      "Epoch 173/500\n",
      "1875/1875 [==============================] - 13s 7ms/step - loss: 0.5772 - accuracy: 0.7875\n",
      "Epoch 174/500\n",
      "1875/1875 [==============================] - 13s 7ms/step - loss: 0.5750 - accuracy: 0.7886\n",
      "Epoch 175/500\n",
      "1875/1875 [==============================] - 13s 7ms/step - loss: 0.5740 - accuracy: 0.7875\n",
      "Epoch 176/500\n",
      "1875/1875 [==============================] - 15s 8ms/step - loss: 0.5740 - accuracy: 0.7897\n",
      "Epoch 177/500\n",
      "1875/1875 [==============================] - 14s 7ms/step - loss: 0.5759 - accuracy: 0.7887\n",
      "Epoch 178/500\n",
      "1875/1875 [==============================] - 13s 7ms/step - loss: 0.5712 - accuracy: 0.7904\n",
      "Epoch 179/500\n",
      "1875/1875 [==============================] - 13s 7ms/step - loss: 0.5711 - accuracy: 0.7910\n",
      "Epoch 180/500\n",
      "1875/1875 [==============================] - 14s 7ms/step - loss: 0.5713 - accuracy: 0.7912\n",
      "Epoch 181/500\n",
      "1875/1875 [==============================] - 14s 7ms/step - loss: 0.5713 - accuracy: 0.7890\n",
      "Epoch 182/500\n",
      "1875/1875 [==============================] - 13s 7ms/step - loss: 0.5696 - accuracy: 0.7907\n",
      "Epoch 183/500\n",
      "1875/1875 [==============================] - 14s 7ms/step - loss: 0.5695 - accuracy: 0.7906\n",
      "Epoch 184/500\n",
      "1875/1875 [==============================] - 13s 7ms/step - loss: 0.5675 - accuracy: 0.7930\n",
      "Epoch 185/500\n",
      "1875/1875 [==============================] - 13s 7ms/step - loss: 0.5660 - accuracy: 0.7935\n",
      "Epoch 186/500\n",
      "1875/1875 [==============================] - 13s 7ms/step - loss: 0.5681 - accuracy: 0.7905\n",
      "Epoch 187/500\n",
      "1875/1875 [==============================] - 13s 7ms/step - loss: 0.5655 - accuracy: 0.7933\n",
      "Epoch 188/500\n",
      "1875/1875 [==============================] - 13s 7ms/step - loss: 0.5634 - accuracy: 0.7938\n",
      "Epoch 189/500\n",
      "1875/1875 [==============================] - 14s 7ms/step - loss: 0.5650 - accuracy: 0.7935\n",
      "Epoch 190/500\n",
      "1875/1875 [==============================] - 13s 7ms/step - loss: 0.5618 - accuracy: 0.7929\n",
      "Epoch 191/500\n",
      "1875/1875 [==============================] - 13s 7ms/step - loss: 0.5623 - accuracy: 0.7924\n",
      "Epoch 192/500\n",
      "1875/1875 [==============================] - 13s 7ms/step - loss: 0.5621 - accuracy: 0.7934\n",
      "Epoch 193/500\n",
      "1875/1875 [==============================] - 13s 7ms/step - loss: 0.5607 - accuracy: 0.7949\n",
      "Epoch 194/500\n",
      "1875/1875 [==============================] - 14s 7ms/step - loss: 0.5598 - accuracy: 0.7966\n",
      "Epoch 195/500\n",
      "1875/1875 [==============================] - 14s 7ms/step - loss: 0.5605 - accuracy: 0.7939\n",
      "Epoch 196/500\n",
      "1875/1875 [==============================] - 14s 7ms/step - loss: 0.5576 - accuracy: 0.7962\n",
      "Epoch 197/500\n",
      "1875/1875 [==============================] - 13s 7ms/step - loss: 0.5587 - accuracy: 0.7949\n",
      "Epoch 198/500\n",
      "1875/1875 [==============================] - 14s 7ms/step - loss: 0.5558 - accuracy: 0.7973\n",
      "Epoch 199/500\n",
      "1875/1875 [==============================] - 14s 7ms/step - loss: 0.5573 - accuracy: 0.7971\n",
      "Epoch 200/500\n",
      "1875/1875 [==============================] - 13s 7ms/step - loss: 0.5557 - accuracy: 0.7958\n",
      "Epoch 201/500\n",
      "1875/1875 [==============================] - 14s 7ms/step - loss: 0.5554 - accuracy: 0.7967\n",
      "Epoch 202/500\n",
      "1875/1875 [==============================] - 13s 7ms/step - loss: 0.5560 - accuracy: 0.7966\n",
      "Epoch 203/500\n",
      "1875/1875 [==============================] - 14s 7ms/step - loss: 0.5538 - accuracy: 0.7981\n",
      "Epoch 204/500\n",
      "1875/1875 [==============================] - 20s 11ms/step - loss: 0.5539 - accuracy: 0.7973\n",
      "Epoch 205/500\n",
      "1875/1875 [==============================] - 18s 9ms/step - loss: 0.5529 - accuracy: 0.7981\n",
      "Epoch 206/500\n",
      "1875/1875 [==============================] - 13s 7ms/step - loss: 0.5500 - accuracy: 0.7995\n",
      "Epoch 207/500\n",
      "1875/1875 [==============================] - 14s 7ms/step - loss: 0.5502 - accuracy: 0.7994\n",
      "Epoch 208/500\n",
      "1875/1875 [==============================] - 14s 8ms/step - loss: 0.5499 - accuracy: 0.7993\n",
      "Epoch 209/500\n",
      "1875/1875 [==============================] - 14s 7ms/step - loss: 0.5500 - accuracy: 0.7992\n",
      "Epoch 210/500\n",
      "1875/1875 [==============================] - 14s 8ms/step - loss: 0.5488 - accuracy: 0.7993\n",
      "Epoch 211/500\n",
      "1875/1875 [==============================] - 14s 7ms/step - loss: 0.5485 - accuracy: 0.7998\n",
      "Epoch 212/500\n",
      "1875/1875 [==============================] - 15s 8ms/step - loss: 0.5469 - accuracy: 0.7998\n",
      "Epoch 213/500\n",
      "1875/1875 [==============================] - 13s 7ms/step - loss: 0.5473 - accuracy: 0.7996\n",
      "Epoch 214/500\n",
      "1875/1875 [==============================] - 14s 8ms/step - loss: 0.5451 - accuracy: 0.8015\n",
      "Epoch 215/500\n",
      "1875/1875 [==============================] - 14s 8ms/step - loss: 0.5444 - accuracy: 0.8013\n",
      "Epoch 216/500\n",
      "1875/1875 [==============================] - 14s 8ms/step - loss: 0.5436 - accuracy: 0.8027\n",
      "Epoch 217/500\n",
      "1875/1875 [==============================] - 14s 8ms/step - loss: 0.5435 - accuracy: 0.8022\n",
      "Epoch 218/500\n",
      "1875/1875 [==============================] - 14s 8ms/step - loss: 0.5420 - accuracy: 0.8018\n",
      "Epoch 219/500\n",
      "1875/1875 [==============================] - 13s 7ms/step - loss: 0.5428 - accuracy: 0.8009\n",
      "Epoch 220/500\n",
      "1875/1875 [==============================] - 120s 64ms/step - loss: 0.5407 - accuracy: 0.8031\n",
      "Epoch 221/500\n",
      "1875/1875 [==============================] - 14s 7ms/step - loss: 0.5402 - accuracy: 0.8033\n",
      "Epoch 222/500\n",
      "1875/1875 [==============================] - 13s 7ms/step - loss: 0.5429 - accuracy: 0.8017\n",
      "Epoch 223/500\n",
      "1875/1875 [==============================] - 14s 8ms/step - loss: 0.5405 - accuracy: 0.8012\n",
      "Epoch 224/500\n",
      "1875/1875 [==============================] - 13s 7ms/step - loss: 0.5382 - accuracy: 0.8033\n",
      "Epoch 225/500\n",
      "1875/1875 [==============================] - 14s 7ms/step - loss: 0.5375 - accuracy: 0.8039\n",
      "Epoch 226/500\n",
      "1875/1875 [==============================] - 14s 8ms/step - loss: 0.5390 - accuracy: 0.8030\n",
      "Epoch 227/500\n",
      "1875/1875 [==============================] - 14s 8ms/step - loss: 0.5360 - accuracy: 0.8059\n",
      "Epoch 228/500\n",
      "1875/1875 [==============================] - 14s 8ms/step - loss: 0.5361 - accuracy: 0.8035\n",
      "Epoch 229/500\n",
      "1875/1875 [==============================] - 15s 8ms/step - loss: 0.5379 - accuracy: 0.8034\n",
      "Epoch 230/500\n",
      "1875/1875 [==============================] - 14s 7ms/step - loss: 0.5338 - accuracy: 0.8050\n",
      "Epoch 231/500\n",
      "1875/1875 [==============================] - 15s 8ms/step - loss: 0.5359 - accuracy: 0.8043\n",
      "Epoch 232/500\n",
      "1875/1875 [==============================] - 14s 7ms/step - loss: 0.5335 - accuracy: 0.8064\n",
      "Epoch 233/500\n"
     ]
    },
    {
     "name": "stdout",
     "output_type": "stream",
     "text": [
      "1875/1875 [==============================] - 12s 7ms/step - loss: 0.5334 - accuracy: 0.8064\n",
      "Epoch 234/500\n",
      "1875/1875 [==============================] - 12s 7ms/step - loss: 0.5323 - accuracy: 0.8066\n",
      "Epoch 235/500\n",
      "1875/1875 [==============================] - 12s 6ms/step - loss: 0.5329 - accuracy: 0.8054\n",
      "Epoch 236/500\n",
      "1875/1875 [==============================] - 19s 10ms/step - loss: 0.5322 - accuracy: 0.8065\n",
      "Epoch 237/500\n",
      "1875/1875 [==============================] - 13s 7ms/step - loss: 0.5318 - accuracy: 0.8056\n",
      "Epoch 238/500\n",
      "1875/1875 [==============================] - 13s 7ms/step - loss: 0.5306 - accuracy: 0.8068\n",
      "Epoch 239/500\n",
      "1875/1875 [==============================] - 13s 7ms/step - loss: 0.5297 - accuracy: 0.8072\n",
      "Epoch 240/500\n",
      "1875/1875 [==============================] - 13s 7ms/step - loss: 0.5288 - accuracy: 0.8071\n",
      "Epoch 241/500\n",
      "1875/1875 [==============================] - 13s 7ms/step - loss: 0.5292 - accuracy: 0.8071\n",
      "Epoch 242/500\n",
      "1875/1875 [==============================] - 13s 7ms/step - loss: 0.5286 - accuracy: 0.8064\n",
      "Epoch 243/500\n",
      "1875/1875 [==============================] - 12s 7ms/step - loss: 0.5254 - accuracy: 0.8069\n",
      "Epoch 244/500\n",
      "1875/1875 [==============================] - 13s 7ms/step - loss: 0.5278 - accuracy: 0.8072\n",
      "Epoch 245/500\n",
      "1875/1875 [==============================] - 13s 7ms/step - loss: 0.5269 - accuracy: 0.8068\n",
      "Epoch 246/500\n",
      "1875/1875 [==============================] - 12s 7ms/step - loss: 0.5279 - accuracy: 0.8072\n",
      "Epoch 247/500\n",
      "1875/1875 [==============================] - 13s 7ms/step - loss: 0.5243 - accuracy: 0.8095\n",
      "Epoch 248/500\n",
      "1875/1875 [==============================] - 12s 7ms/step - loss: 0.5238 - accuracy: 0.8081\n",
      "Epoch 249/500\n",
      "1875/1875 [==============================] - 13s 7ms/step - loss: 0.5229 - accuracy: 0.8100\n",
      "Epoch 250/500\n",
      "1875/1875 [==============================] - 13s 7ms/step - loss: 0.5230 - accuracy: 0.8090\n",
      "Epoch 251/500\n",
      "1875/1875 [==============================] - 13s 7ms/step - loss: 0.5251 - accuracy: 0.8092\n",
      "Epoch 252/500\n",
      "1875/1875 [==============================] - 18s 9ms/step - loss: 0.5228 - accuracy: 0.8107\n",
      "Epoch 253/500\n",
      "1875/1875 [==============================] - 17s 9ms/step - loss: 0.5191 - accuracy: 0.8107\n",
      "Epoch 254/500\n",
      "1875/1875 [==============================] - 14s 7ms/step - loss: 0.5215 - accuracy: 0.8102\n",
      "Epoch 255/500\n",
      "1875/1875 [==============================] - 14s 7ms/step - loss: 0.5218 - accuracy: 0.8097\n",
      "Epoch 256/500\n",
      "1875/1875 [==============================] - 14s 8ms/step - loss: 0.5204 - accuracy: 0.8102\n",
      "Epoch 257/500\n",
      "1875/1875 [==============================] - 14s 7ms/step - loss: 0.5194 - accuracy: 0.8105\n",
      "Epoch 258/500\n",
      "1875/1875 [==============================] - 14s 7ms/step - loss: 0.5215 - accuracy: 0.8106\n",
      "Epoch 259/500\n",
      "1875/1875 [==============================] - 14s 7ms/step - loss: 0.5194 - accuracy: 0.8104\n",
      "Epoch 260/500\n",
      "1875/1875 [==============================] - 14s 7ms/step - loss: 0.5186 - accuracy: 0.8101\n",
      "Epoch 261/500\n",
      "1875/1875 [==============================] - 13s 7ms/step - loss: 0.5160 - accuracy: 0.8114\n",
      "Epoch 262/500\n",
      "1875/1875 [==============================] - 14s 7ms/step - loss: 0.5181 - accuracy: 0.8118\n",
      "Epoch 263/500\n",
      "1875/1875 [==============================] - 13s 7ms/step - loss: 0.5156 - accuracy: 0.8110\n",
      "Epoch 264/500\n",
      "1875/1875 [==============================] - 14s 7ms/step - loss: 0.5152 - accuracy: 0.8135\n",
      "Epoch 265/500\n",
      "1875/1875 [==============================] - 14s 7ms/step - loss: 0.5155 - accuracy: 0.8123\n",
      "Epoch 266/500\n",
      "1875/1875 [==============================] - 14s 7ms/step - loss: 0.5156 - accuracy: 0.8126\n",
      "Epoch 267/500\n",
      "1875/1875 [==============================] - 14s 7ms/step - loss: 0.5150 - accuracy: 0.8124\n",
      "Epoch 268/500\n",
      "1875/1875 [==============================] - 13s 7ms/step - loss: 0.5141 - accuracy: 0.8127\n",
      "Epoch 269/500\n",
      "1875/1875 [==============================] - 703s 375ms/step - loss: 0.5138 - accuracy: 0.8124\n",
      "Epoch 270/500\n",
      "1875/1875 [==============================] - 14s 7ms/step - loss: 0.5128 - accuracy: 0.8124\n",
      "Epoch 271/500\n",
      "1875/1875 [==============================] - 13s 7ms/step - loss: 0.5135 - accuracy: 0.8134\n",
      "Epoch 272/500\n",
      "1875/1875 [==============================] - 14s 7ms/step - loss: 0.5109 - accuracy: 0.8148\n",
      "Epoch 273/500\n",
      "1875/1875 [==============================] - 14s 7ms/step - loss: 0.5128 - accuracy: 0.8134\n",
      "Epoch 274/500\n",
      "1875/1875 [==============================] - 14s 7ms/step - loss: 0.5110 - accuracy: 0.8131\n",
      "Epoch 275/500\n",
      "1875/1875 [==============================] - 14s 7ms/step - loss: 0.5108 - accuracy: 0.8149\n",
      "Epoch 276/500\n",
      "1875/1875 [==============================] - 14s 7ms/step - loss: 0.5096 - accuracy: 0.8141\n",
      "Epoch 277/500\n",
      "1875/1875 [==============================] - 14s 7ms/step - loss: 0.5100 - accuracy: 0.8140\n",
      "Epoch 278/500\n",
      "1875/1875 [==============================] - 14s 7ms/step - loss: 0.5088 - accuracy: 0.8132\n",
      "Epoch 279/500\n",
      "1875/1875 [==============================] - 14s 7ms/step - loss: 0.5073 - accuracy: 0.8146\n",
      "Epoch 280/500\n",
      "1875/1875 [==============================] - 13s 7ms/step - loss: 0.5108 - accuracy: 0.8139\n",
      "Epoch 281/500\n",
      "1875/1875 [==============================] - 14s 7ms/step - loss: 0.5080 - accuracy: 0.8141\n",
      "Epoch 282/500\n",
      "1875/1875 [==============================] - 14s 7ms/step - loss: 0.5082 - accuracy: 0.8144\n",
      "Epoch 283/500\n",
      "1875/1875 [==============================] - 13s 7ms/step - loss: 0.5075 - accuracy: 0.8141\n",
      "Epoch 284/500\n",
      "1875/1875 [==============================] - 14s 7ms/step - loss: 0.5073 - accuracy: 0.8157\n",
      "Epoch 285/500\n",
      "1875/1875 [==============================] - 13s 7ms/step - loss: 0.5066 - accuracy: 0.8151\n",
      "Epoch 286/500\n",
      "1875/1875 [==============================] - 14s 7ms/step - loss: 0.5051 - accuracy: 0.8160\n",
      "Epoch 287/500\n",
      "1875/1875 [==============================] - 14s 7ms/step - loss: 0.5058 - accuracy: 0.8166\n",
      "Epoch 288/500\n",
      "1875/1875 [==============================] - 14s 7ms/step - loss: 0.5027 - accuracy: 0.8169\n",
      "Epoch 289/500\n",
      "1875/1875 [==============================] - 14s 7ms/step - loss: 0.5051 - accuracy: 0.8161\n",
      "Epoch 290/500\n",
      "1875/1875 [==============================] - 13s 7ms/step - loss: 0.5035 - accuracy: 0.8159\n",
      "Epoch 291/500\n",
      "1875/1875 [==============================] - 14s 8ms/step - loss: 0.5036 - accuracy: 0.8161\n",
      "Epoch 292/500\n",
      "1875/1875 [==============================] - 13s 7ms/step - loss: 0.5022 - accuracy: 0.8161\n",
      "Epoch 293/500\n",
      "1875/1875 [==============================] - 388s 207ms/step - loss: 0.5020 - accuracy: 0.8164\n",
      "Epoch 294/500\n",
      "1875/1875 [==============================] - 18s 9ms/step - loss: 0.5027 - accuracy: 0.8173\n",
      "Epoch 295/500\n",
      "1875/1875 [==============================] - 13s 7ms/step - loss: 0.5020 - accuracy: 0.8162\n",
      "Epoch 296/500\n",
      "1875/1875 [==============================] - 13s 7ms/step - loss: 0.5015 - accuracy: 0.8193\n",
      "Epoch 297/500\n",
      "1875/1875 [==============================] - 13s 7ms/step - loss: 0.5010 - accuracy: 0.8173\n",
      "Epoch 298/500\n",
      "1875/1875 [==============================] - 13s 7ms/step - loss: 0.5029 - accuracy: 0.8161\n",
      "Epoch 299/500\n",
      "1875/1875 [==============================] - 14s 7ms/step - loss: 0.4978 - accuracy: 0.8187\n",
      "Epoch 300/500\n",
      "1875/1875 [==============================] - 14s 7ms/step - loss: 0.4998 - accuracy: 0.8177\n",
      "Epoch 301/500\n",
      "1875/1875 [==============================] - 13s 7ms/step - loss: 0.4999 - accuracy: 0.8179\n",
      "Epoch 302/500\n",
      "1875/1875 [==============================] - 14s 7ms/step - loss: 0.5015 - accuracy: 0.8174\n",
      "Epoch 303/500\n",
      "1875/1875 [==============================] - 14s 7ms/step - loss: 0.4987 - accuracy: 0.8179\n",
      "Epoch 304/500\n",
      "1875/1875 [==============================] - 14s 7ms/step - loss: 0.4971 - accuracy: 0.8194\n",
      "Epoch 305/500\n",
      "1875/1875 [==============================] - 14s 7ms/step - loss: 0.4966 - accuracy: 0.8194\n",
      "Epoch 306/500\n",
      "1875/1875 [==============================] - 14s 7ms/step - loss: 0.4997 - accuracy: 0.8176\n",
      "Epoch 307/500\n",
      "1875/1875 [==============================] - 14s 8ms/step - loss: 0.4972 - accuracy: 0.8195\n",
      "Epoch 308/500\n",
      "1875/1875 [==============================] - 14s 8ms/step - loss: 0.4962 - accuracy: 0.8196\n",
      "Epoch 309/500\n",
      "1875/1875 [==============================] - 14s 8ms/step - loss: 0.4961 - accuracy: 0.8198\n",
      "Epoch 310/500\n"
     ]
    },
    {
     "name": "stdout",
     "output_type": "stream",
     "text": [
      "1875/1875 [==============================] - 12s 6ms/step - loss: 0.4916 - accuracy: 0.8206\n",
      "Epoch 311/500\n",
      "1875/1875 [==============================] - 12s 7ms/step - loss: 0.4949 - accuracy: 0.8202\n",
      "Epoch 312/500\n",
      "1875/1875 [==============================] - 12s 7ms/step - loss: 0.4969 - accuracy: 0.8188\n",
      "Epoch 313/500\n",
      "1875/1875 [==============================] - 12s 6ms/step - loss: 0.4933 - accuracy: 0.8193\n",
      "Epoch 314/500\n",
      "1875/1875 [==============================] - 12s 7ms/step - loss: 0.4957 - accuracy: 0.8199\n",
      "Epoch 315/500\n",
      "1875/1875 [==============================] - 12s 7ms/step - loss: 0.4929 - accuracy: 0.8204\n",
      "Epoch 316/500\n",
      "1875/1875 [==============================] - 12s 7ms/step - loss: 0.4936 - accuracy: 0.8202\n",
      "Epoch 317/500\n",
      "1875/1875 [==============================] - 13s 7ms/step - loss: 0.4929 - accuracy: 0.8199\n",
      "Epoch 318/500\n",
      "1875/1875 [==============================] - 12s 6ms/step - loss: 0.4954 - accuracy: 0.8200\n",
      "Epoch 319/500\n",
      "1875/1875 [==============================] - 12s 7ms/step - loss: 0.4921 - accuracy: 0.8197\n",
      "Epoch 320/500\n",
      "1875/1875 [==============================] - 12s 7ms/step - loss: 0.4930 - accuracy: 0.8208\n",
      "Epoch 321/500\n",
      "1875/1875 [==============================] - 12s 7ms/step - loss: 0.4929 - accuracy: 0.8207\n",
      "Epoch 322/500\n",
      "1875/1875 [==============================] - 12s 6ms/step - loss: 0.4907 - accuracy: 0.8204\n",
      "Epoch 323/500\n",
      "1875/1875 [==============================] - 13s 7ms/step - loss: 0.4924 - accuracy: 0.8200\n",
      "Epoch 324/500\n",
      "1875/1875 [==============================] - 15s 8ms/step - loss: 0.4911 - accuracy: 0.8217\n",
      "Epoch 325/500\n",
      "1875/1875 [==============================] - 14s 8ms/step - loss: 0.4900 - accuracy: 0.8203\n",
      "Epoch 326/500\n",
      "1875/1875 [==============================] - 14s 8ms/step - loss: 0.4917 - accuracy: 0.8201\n",
      "Epoch 327/500\n",
      "1875/1875 [==============================] - 14s 7ms/step - loss: 0.4911 - accuracy: 0.8212\n",
      "Epoch 328/500\n",
      "1875/1875 [==============================] - 14s 7ms/step - loss: 0.4899 - accuracy: 0.8220\n",
      "Epoch 329/500\n",
      "1875/1875 [==============================] - 14s 8ms/step - loss: 0.4873 - accuracy: 0.8234\n",
      "Epoch 330/500\n",
      "1875/1875 [==============================] - 12s 6ms/step - loss: 0.4869 - accuracy: 0.8230\n",
      "Epoch 331/500\n",
      "1875/1875 [==============================] - 12s 7ms/step - loss: 0.4891 - accuracy: 0.8224\n",
      "Epoch 332/500\n",
      "1875/1875 [==============================] - 12s 7ms/step - loss: 0.4874 - accuracy: 0.8216\n",
      "Epoch 333/500\n",
      "1875/1875 [==============================] - 13s 7ms/step - loss: 0.4858 - accuracy: 0.8233\n",
      "Epoch 334/500\n",
      "1875/1875 [==============================] - 12s 6ms/step - loss: 0.4873 - accuracy: 0.8222\n",
      "Epoch 335/500\n",
      "1875/1875 [==============================] - 13s 7ms/step - loss: 0.4874 - accuracy: 0.8235\n",
      "Epoch 336/500\n",
      "1875/1875 [==============================] - 12s 7ms/step - loss: 0.4877 - accuracy: 0.8216\n",
      "Epoch 337/500\n",
      "1875/1875 [==============================] - 13s 7ms/step - loss: 0.4850 - accuracy: 0.8230\n",
      "Epoch 338/500\n",
      "1875/1875 [==============================] - 12s 6ms/step - loss: 0.4863 - accuracy: 0.8227\n",
      "Epoch 339/500\n",
      "1875/1875 [==============================] - 12s 7ms/step - loss: 0.4856 - accuracy: 0.8239\n",
      "Epoch 340/500\n",
      "1875/1875 [==============================] - 13s 7ms/step - loss: 0.4840 - accuracy: 0.8230\n",
      "Epoch 341/500\n",
      "1875/1875 [==============================] - 13s 7ms/step - loss: 0.4841 - accuracy: 0.8234\n",
      "Epoch 342/500\n",
      "1875/1875 [==============================] - 12s 7ms/step - loss: 0.4850 - accuracy: 0.8234\n",
      "Epoch 343/500\n",
      "1875/1875 [==============================] - 12s 6ms/step - loss: 0.4821 - accuracy: 0.8238\n",
      "Epoch 344/500\n",
      "1875/1875 [==============================] - 12s 7ms/step - loss: 0.4829 - accuracy: 0.8243\n",
      "Epoch 345/500\n",
      "1875/1875 [==============================] - 13s 7ms/step - loss: 0.4841 - accuracy: 0.8232\n",
      "Epoch 346/500\n",
      "1875/1875 [==============================] - 12s 7ms/step - loss: 0.4835 - accuracy: 0.8238\n",
      "Epoch 347/500\n",
      "1875/1875 [==============================] - 13s 7ms/step - loss: 0.4801 - accuracy: 0.8252\n",
      "Epoch 348/500\n",
      "1875/1875 [==============================] - 12s 6ms/step - loss: 0.4834 - accuracy: 0.8238\n",
      "Epoch 349/500\n",
      "1875/1875 [==============================] - 13s 7ms/step - loss: 0.4832 - accuracy: 0.8248\n",
      "Epoch 350/500\n",
      "1875/1875 [==============================] - 12s 7ms/step - loss: 0.4806 - accuracy: 0.8240\n",
      "Epoch 351/500\n",
      "1875/1875 [==============================] - 12s 6ms/step - loss: 0.4821 - accuracy: 0.8237\n",
      "Epoch 352/500\n",
      "1875/1875 [==============================] - 13s 7ms/step - loss: 0.4807 - accuracy: 0.8251\n",
      "Epoch 353/500\n",
      "1875/1875 [==============================] - 13s 7ms/step - loss: 0.4796 - accuracy: 0.8244\n",
      "Epoch 354/500\n",
      "1875/1875 [==============================] - 13s 7ms/step - loss: 0.4800 - accuracy: 0.8244\n",
      "Epoch 355/500\n",
      "1875/1875 [==============================] - 12s 7ms/step - loss: 0.4792 - accuracy: 0.8254\n",
      "Epoch 356/500\n",
      "1875/1875 [==============================] - 3413s 2s/step - loss: 0.4785 - accuracy: 0.8258\n",
      "Epoch 357/500\n",
      "1875/1875 [==============================] - 13s 7ms/step - loss: 0.4802 - accuracy: 0.8252\n",
      "Epoch 358/500\n",
      "1875/1875 [==============================] - 11s 6ms/step - loss: 0.4799 - accuracy: 0.8254\n",
      "Epoch 359/500\n",
      "1875/1875 [==============================] - 12s 6ms/step - loss: 0.4778 - accuracy: 0.8259\n",
      "Epoch 360/500\n",
      "1875/1875 [==============================] - 1274s 680ms/step - loss: 0.4782 - accuracy: 0.8266\n",
      "Epoch 361/500\n",
      "1875/1875 [==============================] - 12s 6ms/step - loss: 0.4768 - accuracy: 0.8261\n",
      "Epoch 362/500\n",
      "1875/1875 [==============================] - 1910s 1s/step - loss: 0.4769 - accuracy: 0.8262\n",
      "Epoch 363/500\n",
      "1875/1875 [==============================] - 13s 7ms/step - loss: 0.4783 - accuracy: 0.8260\n",
      "Epoch 364/500\n",
      "1875/1875 [==============================] - 12s 6ms/step - loss: 0.4787 - accuracy: 0.8250\n",
      "Epoch 365/500\n",
      "1875/1875 [==============================] - 12s 6ms/step - loss: 0.4760 - accuracy: 0.8266\n",
      "Epoch 366/500\n",
      "1875/1875 [==============================] - 97s 52ms/step - loss: 0.4794 - accuracy: 0.8239\n",
      "Epoch 367/500\n",
      "1875/1875 [==============================] - 16s 8ms/step - loss: 0.4769 - accuracy: 0.8254\n",
      "Epoch 368/500\n",
      "1875/1875 [==============================] - 14s 7ms/step - loss: 0.4755 - accuracy: 0.8266\n",
      "Epoch 369/500\n",
      "1875/1875 [==============================] - 13s 7ms/step - loss: 0.4762 - accuracy: 0.8256\n",
      "Epoch 370/500\n",
      "1875/1875 [==============================] - 14s 7ms/step - loss: 0.4756 - accuracy: 0.8267\n",
      "Epoch 371/500\n",
      "1875/1875 [==============================] - 14s 7ms/step - loss: 0.4751 - accuracy: 0.8270\n",
      "Epoch 372/500\n",
      "1875/1875 [==============================] - 14s 7ms/step - loss: 0.4738 - accuracy: 0.8287\n",
      "Epoch 373/500\n",
      "1875/1875 [==============================] - 14s 7ms/step - loss: 0.4757 - accuracy: 0.8266\n",
      "Epoch 374/500\n",
      "1875/1875 [==============================] - 13s 7ms/step - loss: 0.4754 - accuracy: 0.8266\n",
      "Epoch 375/500\n",
      "1875/1875 [==============================] - 13s 7ms/step - loss: 0.4747 - accuracy: 0.8265\n",
      "Epoch 376/500\n",
      "1875/1875 [==============================] - 14s 7ms/step - loss: 0.4725 - accuracy: 0.8284\n",
      "Epoch 377/500\n",
      "1875/1875 [==============================] - 14s 7ms/step - loss: 0.4737 - accuracy: 0.8272\n",
      "Epoch 378/500\n",
      "1875/1875 [==============================] - 14s 7ms/step - loss: 0.4744 - accuracy: 0.8269\n",
      "Epoch 379/500\n",
      "1875/1875 [==============================] - 14s 7ms/step - loss: 0.4714 - accuracy: 0.8300\n",
      "Epoch 380/500\n",
      "1875/1875 [==============================] - 14s 7ms/step - loss: 0.4724 - accuracy: 0.8285\n",
      "Epoch 381/500\n",
      "1875/1875 [==============================] - 13s 7ms/step - loss: 0.4751 - accuracy: 0.8270\n",
      "Epoch 382/500\n",
      "1875/1875 [==============================] - 14s 7ms/step - loss: 0.4705 - accuracy: 0.8284\n",
      "Epoch 383/500\n",
      "1875/1875 [==============================] - 13s 7ms/step - loss: 0.4711 - accuracy: 0.8283\n",
      "Epoch 384/500\n",
      "1875/1875 [==============================] - 14s 7ms/step - loss: 0.4701 - accuracy: 0.8277\n",
      "Epoch 385/500\n",
      "1875/1875 [==============================] - 14s 7ms/step - loss: 0.4719 - accuracy: 0.8277\n",
      "Epoch 386/500\n",
      "1875/1875 [==============================] - 14s 7ms/step - loss: 0.4708 - accuracy: 0.8294\n",
      "Epoch 387/500\n"
     ]
    },
    {
     "name": "stdout",
     "output_type": "stream",
     "text": [
      "1875/1875 [==============================] - 11s 6ms/step - loss: 0.4698 - accuracy: 0.8293\n",
      "Epoch 388/500\n",
      "1875/1875 [==============================] - 12s 6ms/step - loss: 0.4682 - accuracy: 0.8297\n",
      "Epoch 389/500\n",
      "1875/1875 [==============================] - 12s 6ms/step - loss: 0.4705 - accuracy: 0.8281\n",
      "Epoch 390/500\n",
      "1875/1875 [==============================] - 12s 6ms/step - loss: 0.4708 - accuracy: 0.8300\n",
      "Epoch 391/500\n",
      "1875/1875 [==============================] - 12s 6ms/step - loss: 0.4693 - accuracy: 0.8293\n",
      "Epoch 392/500\n",
      "1875/1875 [==============================] - 11s 6ms/step - loss: 0.4697 - accuracy: 0.8286\n",
      "Epoch 393/500\n",
      "1875/1875 [==============================] - 12s 6ms/step - loss: 0.4684 - accuracy: 0.8301\n",
      "Epoch 394/500\n",
      "1875/1875 [==============================] - 12s 6ms/step - loss: 0.4667 - accuracy: 0.8301\n",
      "Epoch 395/500\n",
      "1875/1875 [==============================] - 13s 7ms/step - loss: 0.4691 - accuracy: 0.8295\n",
      "Epoch 396/500\n",
      "1875/1875 [==============================] - 12s 6ms/step - loss: 0.4680 - accuracy: 0.8297\n",
      "Epoch 397/500\n",
      "1875/1875 [==============================] - 12s 6ms/step - loss: 0.4671 - accuracy: 0.8303\n",
      "Epoch 398/500\n",
      "1875/1875 [==============================] - 12s 6ms/step - loss: 0.4676 - accuracy: 0.8293\n",
      "Epoch 399/500\n",
      "1875/1875 [==============================] - 12s 6ms/step - loss: 0.4665 - accuracy: 0.8300\n",
      "Epoch 400/500\n",
      "1875/1875 [==============================] - 12s 6ms/step - loss: 0.4655 - accuracy: 0.8297\n",
      "Epoch 401/500\n",
      "1875/1875 [==============================] - 13s 7ms/step - loss: 0.4653 - accuracy: 0.8299\n",
      "Epoch 402/500\n",
      "1875/1875 [==============================] - 15s 8ms/step - loss: 0.4678 - accuracy: 0.8303\n",
      "Epoch 403/500\n",
      "1875/1875 [==============================] - 13s 7ms/step - loss: 0.4654 - accuracy: 0.8306\n",
      "Epoch 404/500\n",
      "1875/1875 [==============================] - 13s 7ms/step - loss: 0.4660 - accuracy: 0.8305\n",
      "Epoch 405/500\n",
      "1875/1875 [==============================] - 13s 7ms/step - loss: 0.4643 - accuracy: 0.8323\n",
      "Epoch 406/500\n",
      "1875/1875 [==============================] - 12s 6ms/step - loss: 0.4662 - accuracy: 0.8299\n",
      "Epoch 407/500\n",
      "1875/1875 [==============================] - 13s 7ms/step - loss: 0.4663 - accuracy: 0.8304\n",
      "Epoch 408/500\n",
      "1875/1875 [==============================] - 13s 7ms/step - loss: 0.4650 - accuracy: 0.8309\n",
      "Epoch 409/500\n",
      "1875/1875 [==============================] - 12s 7ms/step - loss: 0.4659 - accuracy: 0.8289\n",
      "Epoch 410/500\n",
      "1875/1875 [==============================] - 12s 7ms/step - loss: 0.4661 - accuracy: 0.8309\n",
      "Epoch 411/500\n",
      "1875/1875 [==============================] - 13s 7ms/step - loss: 0.4636 - accuracy: 0.8321\n",
      "Epoch 412/500\n",
      "1875/1875 [==============================] - 13s 7ms/step - loss: 0.4633 - accuracy: 0.8319\n",
      "Epoch 413/500\n",
      "1875/1875 [==============================] - 12s 6ms/step - loss: 0.4633 - accuracy: 0.8299\n",
      "Epoch 414/500\n",
      "1875/1875 [==============================] - 12s 7ms/step - loss: 0.4640 - accuracy: 0.8309\n",
      "Epoch 415/500\n",
      "1875/1875 [==============================] - 12s 7ms/step - loss: 0.4637 - accuracy: 0.8318\n",
      "Epoch 416/500\n",
      "1875/1875 [==============================] - 13s 7ms/step - loss: 0.4612 - accuracy: 0.8335\n",
      "Epoch 417/500\n",
      "1875/1875 [==============================] - 12s 7ms/step - loss: 0.4640 - accuracy: 0.8320\n",
      "Epoch 418/500\n",
      "1875/1875 [==============================] - 12s 6ms/step - loss: 0.4619 - accuracy: 0.8320\n",
      "Epoch 419/500\n",
      "1875/1875 [==============================] - 12s 7ms/step - loss: 0.4609 - accuracy: 0.8325\n",
      "Epoch 420/500\n",
      "1875/1875 [==============================] - 13s 7ms/step - loss: 0.4614 - accuracy: 0.8327\n",
      "Epoch 421/500\n",
      "1875/1875 [==============================] - 12s 7ms/step - loss: 0.4603 - accuracy: 0.8338\n",
      "Epoch 422/500\n",
      "1875/1875 [==============================] - 12s 6ms/step - loss: 0.4581 - accuracy: 0.8335\n",
      "Epoch 423/500\n",
      "1875/1875 [==============================] - 13s 7ms/step - loss: 0.4620 - accuracy: 0.8322\n",
      "Epoch 424/500\n",
      "1875/1875 [==============================] - 13s 7ms/step - loss: 0.4591 - accuracy: 0.8339\n",
      "Epoch 425/500\n",
      "1875/1875 [==============================] - 12s 7ms/step - loss: 0.4591 - accuracy: 0.8329\n",
      "Epoch 426/500\n",
      "1875/1875 [==============================] - 12s 6ms/step - loss: 0.4603 - accuracy: 0.8336\n",
      "Epoch 427/500\n",
      "1875/1875 [==============================] - 13s 7ms/step - loss: 0.4605 - accuracy: 0.8326\n",
      "Epoch 428/500\n",
      "1875/1875 [==============================] - 12s 7ms/step - loss: 0.4605 - accuracy: 0.8318\n",
      "Epoch 429/500\n",
      "1875/1875 [==============================] - 12s 7ms/step - loss: 0.4600 - accuracy: 0.8336\n",
      "Epoch 430/500\n",
      "1875/1875 [==============================] - 14s 7ms/step - loss: 0.4589 - accuracy: 0.8332\n",
      "Epoch 431/500\n",
      "1875/1875 [==============================] - 13s 7ms/step - loss: 0.4604 - accuracy: 0.8321\n",
      "Epoch 432/500\n",
      "1875/1875 [==============================] - 12s 6ms/step - loss: 0.4583 - accuracy: 0.8327\n",
      "Epoch 433/500\n",
      "1875/1875 [==============================] - 13s 7ms/step - loss: 0.4591 - accuracy: 0.8322\n",
      "Epoch 434/500\n",
      "1875/1875 [==============================] - 12s 7ms/step - loss: 0.4589 - accuracy: 0.8330\n",
      "Epoch 435/500\n",
      "1875/1875 [==============================] - 12s 7ms/step - loss: 0.4582 - accuracy: 0.8326\n",
      "Epoch 436/500\n",
      "1875/1875 [==============================] - 13s 7ms/step - loss: 0.4594 - accuracy: 0.8330\n",
      "Epoch 437/500\n",
      "1875/1875 [==============================] - 12s 6ms/step - loss: 0.4577 - accuracy: 0.8341\n",
      "Epoch 438/500\n",
      "1875/1875 [==============================] - 13s 7ms/step - loss: 0.4553 - accuracy: 0.8337\n",
      "Epoch 439/500\n",
      "1875/1875 [==============================] - 12s 7ms/step - loss: 0.4579 - accuracy: 0.8335\n",
      "Epoch 440/500\n",
      "1875/1875 [==============================] - 13s 7ms/step - loss: 0.4569 - accuracy: 0.8339\n",
      "Epoch 441/500\n",
      "1875/1875 [==============================] - 12s 6ms/step - loss: 0.4567 - accuracy: 0.8337\n",
      "Epoch 442/500\n",
      "1875/1875 [==============================] - 12s 7ms/step - loss: 0.4576 - accuracy: 0.8331\n",
      "Epoch 443/500\n",
      "1875/1875 [==============================] - 12s 7ms/step - loss: 0.4564 - accuracy: 0.8343\n",
      "Epoch 444/500\n",
      "1875/1875 [==============================] - 13s 7ms/step - loss: 0.4562 - accuracy: 0.8335\n",
      "Epoch 445/500\n",
      "1875/1875 [==============================] - 12s 6ms/step - loss: 0.4539 - accuracy: 0.8346\n",
      "Epoch 446/500\n",
      "1875/1875 [==============================] - 13s 7ms/step - loss: 0.4555 - accuracy: 0.8349\n",
      "Epoch 447/500\n",
      "1875/1875 [==============================] - 12s 7ms/step - loss: 0.4567 - accuracy: 0.8334\n",
      "Epoch 448/500\n",
      "1875/1875 [==============================] - 13s 7ms/step - loss: 0.4552 - accuracy: 0.8341\n",
      "Epoch 449/500\n",
      "1875/1875 [==============================] - 12s 7ms/step - loss: 0.4540 - accuracy: 0.8350\n",
      "Epoch 450/500\n",
      "1875/1875 [==============================] - 12s 6ms/step - loss: 0.4530 - accuracy: 0.8357\n",
      "Epoch 451/500\n",
      "1875/1875 [==============================] - 12s 6ms/step - loss: 0.4547 - accuracy: 0.8331\n",
      "Epoch 452/500\n",
      "1875/1875 [==============================] - 11s 6ms/step - loss: 0.4518 - accuracy: 0.8359\n",
      "Epoch 453/500\n",
      "1875/1875 [==============================] - 12s 6ms/step - loss: 0.4539 - accuracy: 0.8353\n",
      "Epoch 454/500\n",
      "1875/1875 [==============================] - 1896s 1s/step - loss: 0.4530 - accuracy: 0.8354\n",
      "Epoch 455/500\n",
      "1875/1875 [==============================] - 13s 7ms/step - loss: 0.4520 - accuracy: 0.8355\n",
      "Epoch 456/500\n",
      "1875/1875 [==============================] - 14s 7ms/step - loss: 0.4534 - accuracy: 0.8350\n",
      "Epoch 457/500\n",
      "1875/1875 [==============================] - 15s 8ms/step - loss: 0.4537 - accuracy: 0.8349\n",
      "Epoch 458/500\n",
      "1875/1875 [==============================] - 14s 8ms/step - loss: 0.4518 - accuracy: 0.8361\n",
      "Epoch 459/500\n",
      "1875/1875 [==============================] - 14s 8ms/step - loss: 0.4527 - accuracy: 0.8351\n",
      "Epoch 460/500\n",
      "1875/1875 [==============================] - 13s 7ms/step - loss: 0.4514 - accuracy: 0.8339\n",
      "Epoch 461/500\n",
      "1875/1875 [==============================] - 14s 7ms/step - loss: 0.4522 - accuracy: 0.8356\n",
      "Epoch 462/500\n",
      "1875/1875 [==============================] - 13s 7ms/step - loss: 0.4496 - accuracy: 0.8366\n",
      "Epoch 463/500\n",
      "1875/1875 [==============================] - 14s 7ms/step - loss: 0.4507 - accuracy: 0.8358\n",
      "Epoch 464/500\n"
     ]
    },
    {
     "name": "stdout",
     "output_type": "stream",
     "text": [
      "1875/1875 [==============================] - 12s 7ms/step - loss: 0.4496 - accuracy: 0.8363\n",
      "Epoch 465/500\n",
      "1875/1875 [==============================] - 12s 7ms/step - loss: 0.4516 - accuracy: 0.8362\n",
      "Epoch 466/500\n",
      "1875/1875 [==============================] - 12s 6ms/step - loss: 0.4489 - accuracy: 0.8370\n",
      "Epoch 467/500\n",
      "1875/1875 [==============================] - 12s 7ms/step - loss: 0.4517 - accuracy: 0.8349\n",
      "Epoch 468/500\n",
      "1875/1875 [==============================] - 13s 7ms/step - loss: 0.4504 - accuracy: 0.8353\n",
      "Epoch 469/500\n",
      "1875/1875 [==============================] - 13s 7ms/step - loss: 0.4513 - accuracy: 0.8359\n",
      "Epoch 470/500\n",
      "1875/1875 [==============================] - 12s 6ms/step - loss: 0.4490 - accuracy: 0.8357\n",
      "Epoch 471/500\n",
      "1875/1875 [==============================] - 12s 7ms/step - loss: 0.4482 - accuracy: 0.8352\n",
      "Epoch 472/500\n",
      "1875/1875 [==============================] - 13s 7ms/step - loss: 0.4508 - accuracy: 0.8353\n",
      "Epoch 473/500\n",
      "1875/1875 [==============================] - 13s 7ms/step - loss: 0.4489 - accuracy: 0.8365\n",
      "Epoch 474/500\n",
      "1875/1875 [==============================] - 13s 7ms/step - loss: 0.4495 - accuracy: 0.8360\n",
      "Epoch 475/500\n",
      "1875/1875 [==============================] - 12s 6ms/step - loss: 0.4468 - accuracy: 0.8371\n",
      "Epoch 476/500\n",
      "1875/1875 [==============================] - 3180s 2s/step - loss: 0.4493 - accuracy: 0.8359\n",
      "Epoch 477/500\n",
      "1875/1875 [==============================] - 14s 8ms/step - loss: 0.4479 - accuracy: 0.8341\n",
      "Epoch 478/500\n",
      "1875/1875 [==============================] - 13s 7ms/step - loss: 0.4470 - accuracy: 0.8362\n",
      "Epoch 479/500\n",
      "1875/1875 [==============================] - 13s 7ms/step - loss: 0.4473 - accuracy: 0.8366\n",
      "Epoch 480/500\n",
      "1875/1875 [==============================] - 14s 8ms/step - loss: 0.4502 - accuracy: 0.8360\n",
      "Epoch 481/500\n",
      "1875/1875 [==============================] - 15s 8ms/step - loss: 0.4481 - accuracy: 0.8362\n",
      "Epoch 482/500\n",
      "1875/1875 [==============================] - 13s 7ms/step - loss: 0.4469 - accuracy: 0.8374\n",
      "Epoch 483/500\n",
      "1875/1875 [==============================] - 14s 7ms/step - loss: 0.4472 - accuracy: 0.8364\n",
      "Epoch 484/500\n",
      "1875/1875 [==============================] - 13s 7ms/step - loss: 0.4465 - accuracy: 0.8383\n",
      "Epoch 485/500\n",
      "1875/1875 [==============================] - 14s 7ms/step - loss: 0.4462 - accuracy: 0.8374\n",
      "Epoch 486/500\n",
      "1875/1875 [==============================] - 14s 7ms/step - loss: 0.4457 - accuracy: 0.8367\n",
      "Epoch 487/500\n",
      "1875/1875 [==============================] - 14s 7ms/step - loss: 0.4451 - accuracy: 0.8373\n",
      "Epoch 488/500\n",
      "1875/1875 [==============================] - 13s 7ms/step - loss: 0.4444 - accuracy: 0.8372\n",
      "Epoch 489/500\n",
      "1875/1875 [==============================] - 14s 7ms/step - loss: 0.4463 - accuracy: 0.8383\n",
      "Epoch 490/500\n",
      "1875/1875 [==============================] - 13s 7ms/step - loss: 0.4460 - accuracy: 0.8379\n",
      "Epoch 491/500\n",
      "1875/1875 [==============================] - 14s 7ms/step - loss: 0.4453 - accuracy: 0.8381\n",
      "Epoch 492/500\n",
      "1875/1875 [==============================] - 13s 7ms/step - loss: 0.4447 - accuracy: 0.8386\n",
      "Epoch 493/500\n",
      "1875/1875 [==============================] - 14s 7ms/step - loss: 0.4450 - accuracy: 0.8375\n",
      "Epoch 494/500\n",
      "1875/1875 [==============================] - 13s 7ms/step - loss: 0.4461 - accuracy: 0.8371\n",
      "Epoch 495/500\n",
      "1875/1875 [==============================] - 14s 7ms/step - loss: 0.4462 - accuracy: 0.8384\n",
      "Epoch 496/500\n",
      "1875/1875 [==============================] - 13s 7ms/step - loss: 0.4448 - accuracy: 0.8372\n",
      "Epoch 497/500\n",
      "1875/1875 [==============================] - 15s 8ms/step - loss: 0.4451 - accuracy: 0.8373\n",
      "Epoch 498/500\n",
      "1875/1875 [==============================] - 13s 7ms/step - loss: 0.4442 - accuracy: 0.8382\n",
      "Epoch 499/500\n",
      "1875/1875 [==============================] - 14s 7ms/step - loss: 0.4436 - accuracy: 0.8394\n",
      "Epoch 500/500\n",
      "1875/1875 [==============================] - 14s 7ms/step - loss: 0.4426 - accuracy: 0.8389\n"
     ]
    },
    {
     "data": {
      "text/plain": [
       "<keras.callbacks.History at 0x17126b2b0>"
      ]
     },
     "execution_count": 91,
     "metadata": {},
     "output_type": "execute_result"
    }
   ],
   "source": [
    "model=keras.Sequential([\n",
    "    keras.layers.Flatten(input_shape=(28,28)),\n",
    "    keras.layers.Dense(1000,activation='relu'),\n",
    "    keras.layers.Dense(100,activation='relu'),\n",
    "    keras.layers.Dense(len(Class),activation='sigmoid')\n",
    "])\n",
    "\n",
    "model.compile(optimizer='SGD',\n",
    "                  loss='categorical_crossentropy',\n",
    "                  metrics=['accuracy'])\n",
    "\n",
    "model.fit(X_train_scaled,y_train_categorical,epochs=500)"
   ]
  },
  {
   "cell_type": "code",
   "execution_count": 109,
   "id": "237efa43",
   "metadata": {},
   "outputs": [
    {
     "data": {
      "text/plain": [
       "'Ankle boot'"
      ]
     },
     "execution_count": 109,
     "metadata": {},
     "output_type": "execute_result"
    }
   ],
   "source": []
  },
  {
   "cell_type": "code",
   "execution_count": 112,
   "id": "eda5649e",
   "metadata": {},
   "outputs": [
    {
     "name": "stdout",
     "output_type": "stream",
     "text": [
      "313/313 [==============================] - 1s 4ms/step - loss: 37.8605 - accuracy: 0.7407\n"
     ]
    },
    {
     "data": {
      "text/plain": [
       "[37.8604736328125, 0.7407000064849854]"
      ]
     },
     "execution_count": 112,
     "metadata": {},
     "output_type": "execute_result"
    }
   ],
   "source": [
    "model.evaluate(X_test_scaled,y_test_categorical)"
   ]
  },
  {
   "cell_type": "code",
   "execution_count": 113,
   "id": "d3dd0961",
   "metadata": {},
   "outputs": [
    {
     "name": "stdout",
     "output_type": "stream",
     "text": [
      "313/313 [==============================] - 1s 4ms/step\n"
     ]
    },
    {
     "data": {
      "text/plain": [
       "'Sandal'"
      ]
     },
     "execution_count": 113,
     "metadata": {},
     "output_type": "execute_result"
    }
   ],
   "source": [
    "Class[np.argmax(model.predict(X_test_scaled)[0])]"
   ]
  },
  {
   "cell_type": "code",
   "execution_count": 114,
   "id": "3eb76323",
   "metadata": {},
   "outputs": [
    {
     "data": {
      "text/plain": [
       "'Ankle boot'"
      ]
     },
     "execution_count": 114,
     "metadata": {},
     "output_type": "execute_result"
    }
   ],
   "source": [
    "Class[y_test[0]]"
   ]
  },
  {
   "cell_type": "code",
   "execution_count": 115,
   "id": "6b00de67",
   "metadata": {},
   "outputs": [
    {
     "name": "stdout",
     "output_type": "stream",
     "text": [
      "313/313 [==============================] - 1s 5ms/step\n"
     ]
    },
    {
     "data": {
      "text/plain": [
       "'T-shirt/top'"
      ]
     },
     "execution_count": 115,
     "metadata": {},
     "output_type": "execute_result"
    }
   ],
   "source": [
    "Class[np.argmax(model.predict(X_test_scaled)[10])]"
   ]
  },
  {
   "cell_type": "code",
   "execution_count": 116,
   "id": "28993eeb",
   "metadata": {},
   "outputs": [
    {
     "data": {
      "text/plain": [
       "'Coat'"
      ]
     },
     "execution_count": 116,
     "metadata": {},
     "output_type": "execute_result"
    }
   ],
   "source": [
    "Class[y_test[10]]"
   ]
  },
  {
   "cell_type": "code",
   "execution_count": 117,
   "id": "6cb03aab",
   "metadata": {},
   "outputs": [
    {
     "name": "stdout",
     "output_type": "stream",
     "text": [
      "313/313 [==============================] - 1s 4ms/step\n"
     ]
    },
    {
     "data": {
      "text/plain": [
       "'T-shirt/top'"
      ]
     },
     "execution_count": 117,
     "metadata": {},
     "output_type": "execute_result"
    }
   ],
   "source": [
    "Class[np.argmax(model.predict(X_test_scaled)[256])]"
   ]
  },
  {
   "cell_type": "code",
   "execution_count": 118,
   "id": "cecea536",
   "metadata": {},
   "outputs": [
    {
     "data": {
      "text/plain": [
       "'Bag'"
      ]
     },
     "execution_count": 118,
     "metadata": {},
     "output_type": "execute_result"
    }
   ],
   "source": [
    "Class[y_test[256]]"
   ]
  },
  {
   "cell_type": "code",
   "execution_count": null,
   "id": "14bb9250",
   "metadata": {},
   "outputs": [],
   "source": [
    "\"Model needs to be trained further for better accuracy. Let us change the optimizer and check for results\""
   ]
  },
  {
   "cell_type": "code",
   "execution_count": 120,
   "id": "fea4d57f",
   "metadata": {},
   "outputs": [
    {
     "name": "stdout",
     "output_type": "stream",
     "text": [
      "Epoch 1/5\n",
      "1875/1875 [==============================] - 26s 13ms/step - loss: 0.4722 - accuracy: 0.8300\n",
      "Epoch 2/5\n",
      "1875/1875 [==============================] - 25s 14ms/step - loss: 0.3565 - accuracy: 0.8690\n",
      "Epoch 3/5\n",
      "1875/1875 [==============================] - 26s 14ms/step - loss: 0.3217 - accuracy: 0.8814\n",
      "Epoch 4/5\n",
      "1875/1875 [==============================] - 26s 14ms/step - loss: 0.2987 - accuracy: 0.8888\n",
      "Epoch 5/5\n",
      "1875/1875 [==============================] - 26s 14ms/step - loss: 0.2788 - accuracy: 0.8949\n"
     ]
    },
    {
     "data": {
      "text/plain": [
       "<keras.callbacks.History at 0x1595ae700>"
      ]
     },
     "execution_count": 120,
     "metadata": {},
     "output_type": "execute_result"
    }
   ],
   "source": [
    "model1=keras.Sequential([\n",
    "    keras.layers.Flatten(input_shape=(28,28)),\n",
    "    keras.layers.Dense(1000,activation='relu'),\n",
    "    keras.layers.Dense(100,activation='relu'),\n",
    "    keras.layers.Dense(len(Class),activation='sigmoid')\n",
    "])\n",
    "\n",
    "model1.compile(optimizer='adam',\n",
    "                  loss='categorical_crossentropy',\n",
    "                  metrics=['accuracy'])\n",
    "\n",
    "model1.fit(X_train_scaled,y_train_categorical,epochs=5)"
   ]
  },
  {
   "cell_type": "code",
   "execution_count": 121,
   "id": "5af7e2f3",
   "metadata": {},
   "outputs": [
    {
     "name": "stdout",
     "output_type": "stream",
     "text": [
      "313/313 [==============================] - 1s 4ms/step\n"
     ]
    },
    {
     "data": {
      "text/plain": [
       "'Bag'"
      ]
     },
     "execution_count": 121,
     "metadata": {},
     "output_type": "execute_result"
    }
   ],
   "source": [
    "Class[np.argmax(model1.predict(X_test_scaled)[256])]"
   ]
  },
  {
   "cell_type": "code",
   "execution_count": 122,
   "id": "230a80b9",
   "metadata": {},
   "outputs": [
    {
     "data": {
      "text/plain": [
       "'Bag'"
      ]
     },
     "execution_count": 122,
     "metadata": {},
     "output_type": "execute_result"
    }
   ],
   "source": [
    "Class[y_test[256]]"
   ]
  },
  {
   "cell_type": "code",
   "execution_count": 124,
   "id": "88cd2706",
   "metadata": {},
   "outputs": [
    {
     "name": "stdout",
     "output_type": "stream",
     "text": [
      "313/313 [==============================] - 1s 3ms/step\n"
     ]
    },
    {
     "data": {
      "text/plain": [
       "'Sneaker'"
      ]
     },
     "execution_count": 124,
     "metadata": {},
     "output_type": "execute_result"
    }
   ],
   "source": [
    "Class[np.argmax(model1.predict(X_test_scaled)[22])]"
   ]
  },
  {
   "cell_type": "code",
   "execution_count": 123,
   "id": "02c483c1",
   "metadata": {},
   "outputs": [
    {
     "data": {
      "text/plain": [
       "'Sneaker'"
      ]
     },
     "execution_count": 123,
     "metadata": {},
     "output_type": "execute_result"
    }
   ],
   "source": [
    "Class[y_test[22]]"
   ]
  },
  {
   "cell_type": "code",
   "execution_count": 125,
   "id": "356a0e92",
   "metadata": {},
   "outputs": [
    {
     "name": "stdout",
     "output_type": "stream",
     "text": [
      "313/313 [==============================] - 1s 3ms/step\n"
     ]
    },
    {
     "data": {
      "text/plain": [
       "'T-shirt/top'"
      ]
     },
     "execution_count": 125,
     "metadata": {},
     "output_type": "execute_result"
    }
   ],
   "source": [
    "Class[np.argmax(model1.predict(X_test_scaled)[19])]"
   ]
  },
  {
   "cell_type": "code",
   "execution_count": 126,
   "id": "946c002c",
   "metadata": {},
   "outputs": [
    {
     "data": {
      "text/plain": [
       "'T-shirt/top'"
      ]
     },
     "execution_count": 126,
     "metadata": {},
     "output_type": "execute_result"
    }
   ],
   "source": [
    "Class[y_test[19]]"
   ]
  },
  {
   "cell_type": "code",
   "execution_count": null,
   "id": "58f9a655",
   "metadata": {},
   "outputs": [],
   "source": []
  }
 ],
 "metadata": {
  "kernelspec": {
   "display_name": "Python 3 (ipykernel)",
   "language": "python",
   "name": "python3"
  },
  "language_info": {
   "codemirror_mode": {
    "name": "ipython",
    "version": 3
   },
   "file_extension": ".py",
   "mimetype": "text/x-python",
   "name": "python",
   "nbconvert_exporter": "python",
   "pygments_lexer": "ipython3",
   "version": "3.9.13"
  }
 },
 "nbformat": 4,
 "nbformat_minor": 5
}
